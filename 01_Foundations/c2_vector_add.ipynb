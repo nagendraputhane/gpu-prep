{
  "nbformat": 4,
  "nbformat_minor": 0,
  "metadata": {
    "colab": {
      "provenance": [],
      "gpuType": "T4"
    },
    "kernelspec": {
      "name": "python3",
      "display_name": "Python 3"
    },
    "language_info": {
      "name": "python"
    },
    "accelerator": "GPU"
  },
  "cells": [
    {
      "cell_type": "code",
      "source": [
        "%%bash\n",
        "cat > vector_add.cu << 'EOF'\n",
        "#include <cstdio>\n",
        "#include <cuda_runtime.h>\n",
        "\n",
        "__global__ void vector_add(const float *a, const float *b, float *c, int n) {\n",
        "  int tid = blockIdx.x * blockDim.x + threadIdx.x;\n",
        "  if (tid < n) {\n",
        "    c[tid] = a[tid] + b[tid];\n",
        "  }\n",
        "}\n",
        "\n",
        "int main() {\n",
        "  const int N = 1 << 20; // 1 << n  ==  2^n\n",
        "  // bitwise left shift. Shift it left by 20 positions → adds 20 zeros on the right. 2^20 = 1,048,576.\n",
        "  size_t size = N * sizeof(float);\n",
        "\n",
        "  //Allocate CPU Memory\n",
        "  float *h_a = (float*)malloc(size);\n",
        "  float *h_b = (float*)malloc(size);\n",
        "  float *h_c = (float*)malloc(size);\n",
        "\n",
        "  //Initialize host arrays\n",
        "  for (int i = 0; i < N; i++) {\n",
        "    h_a[i] = 1.0f;\n",
        "    h_b[i] = 2.0f;\n",
        "  }\n",
        "\n",
        "  //Allocate GPU Memory\n",
        "  float *d_a, *d_b, *d_c;\n",
        "  cudaMalloc(&d_a, size);\n",
        "  cudaMalloc(&d_b, size);\n",
        "  cudaMalloc(&d_c, size);\n",
        "\n",
        "  //Copy inputs to GPU\n",
        "  cudaMemcpy(d_a, h_a, size, cudaMemcpyHostToDevice);\n",
        "  cudaMemcpy(d_b, h_b, size, cudaMemcpyHostToDevice);\n",
        "\n",
        "  //Launch kernel\n",
        "  int threads = 256;\n",
        "  int blocks = (N + threads -1) / threads;\n",
        "\n",
        "  vector_add<<<blocks, threads>>>(d_a, d_b, d_c, N);\n",
        "\n",
        "  //Copy output back to host\n",
        "  cudaMemcpy(h_c, d_c, size, cudaMemcpyDeviceToHost);\n",
        "\n",
        "  //Verify result\n",
        "  bool pass = true;\n",
        "  for (int i = 0; i < N; ++i) {\n",
        "      if (fabs(h_c[i] - 3.0f) > 1e-5f) {\n",
        "          printf(\"Error at %d: %f\\n\", i, h_c[i]);\n",
        "          pass = false;\n",
        "          break;\n",
        "      }\n",
        "  }\n",
        "  printf(\"Vector addition: %s\\n\", pass ? \"PASS\" : \"FAIL\");\n",
        "\n",
        "  // 9. Cleanup\n",
        "    free(h_a); free(h_b); free(h_c);\n",
        "    cudaFree(d_a); cudaFree(d_b); cudaFree(d_c);\n",
        "    return 0;\n",
        "}\n",
        "EOF"
      ],
      "metadata": {
        "id": "fomPjcXdNtu8"
      },
      "execution_count": 8,
      "outputs": []
    },
    {
      "cell_type": "code",
      "source": [
        "!nvcc -arch=sm_75 vector_add.cu -o vector_add\n",
        "!./vector_add"
      ],
      "metadata": {
        "id": "4t99OAsIOO-K",
        "colab": {
          "base_uri": "https://localhost:8080/"
        },
        "outputId": "4c2d69d2-b292-4654-8989-a674dc7ccf28"
      },
      "execution_count": 9,
      "outputs": [
        {
          "output_type": "stream",
          "name": "stdout",
          "text": [
            "Vector addition: PASS\n"
          ]
        }
      ]
    }
  ]
}