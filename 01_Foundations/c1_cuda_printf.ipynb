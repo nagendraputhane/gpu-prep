{
  "nbformat": 4,
  "nbformat_minor": 0,
  "metadata": {
    "colab": {
      "provenance": [],
      "gpuType": "T4"
    },
    "kernelspec": {
      "name": "python3",
      "display_name": "Python 3"
    },
    "language_info": {
      "name": "python"
    },
    "accelerator": "GPU"
  },
  "cells": [
    {
      "cell_type": "code",
      "execution_count": null,
      "metadata": {
        "colab": {
          "base_uri": "https://localhost:8080/"
        },
        "id": "m5NBpu__NYwj",
        "outputId": "71754f99-53cc-4a4a-b176-31cf5168e9bf"
      },
      "outputs": [
        {
          "output_type": "stream",
          "name": "stdout",
          "text": [
            "nvcc: NVIDIA (R) Cuda compiler driver\n",
            "Copyright (c) 2005-2024 NVIDIA Corporation\n",
            "Built on Thu_Jun__6_02:18:23_PDT_2024\n",
            "Cuda compilation tools, release 12.5, V12.5.82\n",
            "Build cuda_12.5.r12.5/compiler.34385749_0\n"
          ]
        }
      ],
      "source": [
        "!nvcc --version"
      ]
    },
    {
      "cell_type": "code",
      "source": [
        "%%bash\n",
        "cat > hello2_debug.cu << 'EOF'\n",
        "#include <cstdio>\n",
        "\n",
        "// Write each thread’s global ID into out[tid]\n",
        "__global__ void hello_write(int *out) {\n",
        "    int tid = blockIdx.x * blockDim.x + threadIdx.x;\n",
        "    out[tid] = tid;\n",
        "}\n",
        "\n",
        "int main() {\n",
        "    const int N = 8;\n",
        "    int *out;\n",
        "\n",
        "    // Allocate unified memory\n",
        "    cudaMallocManaged(&out, N * sizeof(int));\n",
        "\n",
        "    // Launch 1 block of N threads\n",
        "    hello_write<<<1, N>>>(out);\n",
        "\n",
        "    // Check for launch errors\n",
        "    cudaError_t err = cudaGetLastError();\n",
        "    if (err != cudaSuccess) {\n",
        "        printf(\"Kernel launch failed: %s\\n\", cudaGetErrorString(err));\n",
        "        return 1;\n",
        "    }\n",
        "\n",
        "    // Wait for GPU, check for runtime errors\n",
        "    err = cudaDeviceSynchronize();\n",
        "    if (err != cudaSuccess) {\n",
        "        printf(\"Kernel execution failed: %s\\n\", cudaGetErrorString(err));\n",
        "        return 1;\n",
        "    }\n",
        "\n",
        "    // Print results on the CPU\n",
        "    for (int i = 0; i < N; i++) {\n",
        "        printf(\"out[%d] = %d\\n\", i, out[i]);\n",
        "    }\n",
        "\n",
        "    cudaFree(out);\n",
        "    return 0;\n",
        "}\n",
        "EOF\n"
      ],
      "metadata": {
        "id": "fomPjcXdNtu8"
      },
      "execution_count": 2,
      "outputs": []
    },
    {
      "cell_type": "code",
      "source": [
        "!nvcc -arch=sm_75 hello2_debug.cu -o hello2_debug\n",
        "!./hello2_debug"
      ],
      "metadata": {
        "id": "4t99OAsIOO-K",
        "colab": {
          "base_uri": "https://localhost:8080/"
        },
        "outputId": "268910ca-8cd6-44c5-8eab-4d11ab44a1fd"
      },
      "execution_count": 3,
      "outputs": [
        {
          "output_type": "stream",
          "name": "stdout",
          "text": [
            "out[0] = 0\n",
            "out[1] = 1\n",
            "out[2] = 2\n",
            "out[3] = 3\n",
            "out[4] = 4\n",
            "out[5] = 5\n",
            "out[6] = 6\n",
            "out[7] = 7\n"
          ]
        }
      ]
    }
  ]
}